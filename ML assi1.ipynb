{
 "cells": [
  {
   "cell_type": "markdown",
   "id": "709097ef-109b-4cef-80c8-c1c456829ea3",
   "metadata": {},
   "source": [
    "Q1.Explain the following with an example:"
   ]
  },
  {
   "cell_type": "markdown",
   "id": "a01458b5-5034-401d-97e5-105c83dc8047",
   "metadata": {},
   "source": [
    "1.Artificial Intelligence."
   ]
  },
  {
   "cell_type": "markdown",
   "id": "b39be9ab-c5ac-4e3b-9121-75315cc28719",
   "metadata": {},
   "source": [
    "Artificial Intelligence is a smart application that can perform its own task without any human intervention."
   ]
  },
  {
   "cell_type": "markdown",
   "id": "f2ed4b8a-ac1b-42f9-ba3e-088594f95d61",
   "metadata": {},
   "source": [
    "ex.self driving cars,robots,alexa"
   ]
  },
  {
   "cell_type": "markdown",
   "id": "5f04ba49-4c7c-481e-b146-f5c70aacd797",
   "metadata": {},
   "source": [
    "2.Machine Learning."
   ]
  },
  {
   "cell_type": "markdown",
   "id": "ccce77c2-40b1-4519-9f0f-67c1d8c2cb5d",
   "metadata": {},
   "source": [
    "It provide statstool to analyze,visualize,predictive tool"
   ]
  },
  {
   "cell_type": "markdown",
   "id": "22851adc-d4be-4560-9cec-98446c050c0b",
   "metadata": {},
   "source": [
    "ex.Amazon,Netflix"
   ]
  },
  {
   "cell_type": "markdown",
   "id": "3c949ec9-d879-40d1-a6f7-e63829c25614",
   "metadata": {},
   "source": [
    "3.Deep Learning."
   ]
  },
  {
   "cell_type": "markdown",
   "id": "514849ad-8fcb-493c-abbb-bc9c71cd0158",
   "metadata": {},
   "source": [
    "Deep Learning mimic the human brain."
   ]
  },
  {
   "cell_type": "markdown",
   "id": "38f80f1b-5791-49c9-bf9e-71be3d5307a1",
   "metadata": {},
   "source": [
    "ex.chat bots,object detetion."
   ]
  },
  {
   "cell_type": "markdown",
   "id": "0d71d949-a1e9-437e-b043-28add8442498",
   "metadata": {},
   "source": [
    "Q2- What is supervised learning ? List some examples of supervised learning."
   ]
  },
  {
   "cell_type": "markdown",
   "id": "fce000c5-2f58-464a-bdd1-a67f64cb30df",
   "metadata": {},
   "source": [
    "Supervised learning is a process of providing input data as well as correct output data to the machine learning model. "
   ]
  },
  {
   "cell_type": "markdown",
   "id": "4821251d-6dac-44be-bc7c-32b584676fa3",
   "metadata": {},
   "source": [
    "ex.Spam detection, Image classification"
   ]
  },
  {
   "cell_type": "markdown",
   "id": "63a0d2a8-a932-4ea8-ac7f-4dda80a86130",
   "metadata": {},
   "source": [
    "Q3- what is unsupervised learning ? List some examples of unsupervised learning."
   ]
  },
  {
   "cell_type": "markdown",
   "id": "85b0d3d5-5ce2-4152-9f9c-8eaeafbde4b3",
   "metadata": {},
   "source": [
    "unsupervised learning is a machine learning technique in which models are not supervised using training dataset"
   ]
  },
  {
   "cell_type": "markdown",
   "id": "02dcf0e2-5cc4-4e73-b997-73dbb4f19fe3",
   "metadata": {},
   "source": [
    "ex.image feature."
   ]
  },
  {
   "cell_type": "markdown",
   "id": "c943eb7c-c844-47c4-af60-6aeb099b523f",
   "metadata": {},
   "source": [
    "Q4- What is the differene between AI,ML,DL,DS?"
   ]
  },
  {
   "cell_type": "markdown",
   "id": "d11c9ebf-9cad-493e-ba20-776465e8dbad",
   "metadata": {},
   "source": [
    "AI simulates human intelligence to perform tasks and make decisions. ML is a subset of AI that uses algorithms to learn patterns from data. DL is a subset of ML that employs artificial neural networks for complex tasks. AI may or may not require large datasets; it can use predefined rules."
   ]
  },
  {
   "cell_type": "markdown",
   "id": "7cfc3223-bb73-43ab-9ace-e9e97d43d977",
   "metadata": {},
   "source": [
    "Q5- What are the main difference between superwised,unsuperwised and semi-superwised learning?"
   ]
  },
  {
   "cell_type": "markdown",
   "id": "dc76563d-5fe8-4d2e-8e90-2c1e009d763f",
   "metadata": {},
   "source": [
    "Supervised learning is a problem with labeled data, expecting to develop predictive capability. Unsupervised learning is discovering process, diving into unlabeled data to capture hidden information. Semi-supervised learning is a blend of supervised and unsupervised learning."
   ]
  },
  {
   "cell_type": "markdown",
   "id": "21ef1e8c-1c44-4a15-ac3a-8b347b338e70",
   "metadata": {},
   "source": [
    "Q6- What is train, test and validation split? Explain the important"
   ]
  },
  {
   "cell_type": "markdown",
   "id": "a97d60d1-91d7-47c9-a30a-66e42480fbec",
   "metadata": {},
   "source": [
    "in train we train the module bassed on the dataset.in test we test the trained modele in real life and based on the train,test accuracy we validate the module."
   ]
  },
  {
   "cell_type": "markdown",
   "id": "83e8cbd2-ccf2-4fb9-90bd-389f2ccbc431",
   "metadata": {},
   "source": [
    "Q7- How can unsupervised learning be used in anomaly detection ?"
   ]
  },
  {
   "cell_type": "markdown",
   "id": "16581ab0-865d-4aee-a419-514563871b01",
   "metadata": {},
   "source": [
    "Unsupervised machine learning is one of the main branches of machine learning and it has a multitude of applications. One of the most important is anomaly detection: identifying normal patterns within a data sample and then detecting outliers based on the natural characteristics of the data set itself."
   ]
  },
  {
   "cell_type": "code",
   "execution_count": null,
   "id": "c3cb1345-0f38-41e2-bbac-f2cc0b08c242",
   "metadata": {},
   "outputs": [],
   "source": [
    "Q8- List down some commonly used supervised learning algorithms and unsupervised learning\n",
    "algorithms."
   ]
  }
 ],
 "metadata": {
  "kernelspec": {
   "display_name": "Python 3 (ipykernel)",
   "language": "python",
   "name": "python3"
  },
  "language_info": {
   "codemirror_mode": {
    "name": "ipython",
    "version": 3
   },
   "file_extension": ".py",
   "mimetype": "text/x-python",
   "name": "python",
   "nbconvert_exporter": "python",
   "pygments_lexer": "ipython3",
   "version": "3.10.8"
  }
 },
 "nbformat": 4,
 "nbformat_minor": 5
}
